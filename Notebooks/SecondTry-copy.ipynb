{
 "cells": [
  {
   "cell_type": "code",
   "id": "initial_id",
   "metadata": {
    "collapsed": true,
    "ExecuteTime": {
     "end_time": "2024-06-28T04:19:20.626611Z",
     "start_time": "2024-06-28T04:19:20.127987Z"
    }
   },
   "source": [
    "import numpy as np\n",
    "import matplotlib.pyplot as plt\n",
    "import pandas as pd\n",
    "import seaborn as sns\n",
    "from sklearn.model_selection import train_test_split as tts\n",
    "from sklearn.metrics import r2_score, accuracy_score\n",
    "from sklearn.linear_model import LinearRegression, Lasso, Ridge\n",
    "from sklearn.tree import DecisionTreeRegressor\n",
    "from sklearn.ensemble import RandomForestRegressor, GradientBoostingRegressor\n",
    "from sklearn.svm import SVR\n",
    "\n",
    "import warnings\n",
    "warnings.filterwarnings('ignore')"
   ],
   "execution_count": 1,
   "outputs": []
  },
  {
   "metadata": {
    "ExecuteTime": {
     "end_time": "2024-06-27T20:17:19.138Z",
     "start_time": "2024-06-27T20:17:18.603844Z"
    }
   },
   "cell_type": "code",
   "source": [
    "dTrain = pd.read_csv('train.csv')\n",
    "dTest = pd.read_csv('test.csv')"
   ],
   "id": "23748ea53483c8ec",
   "execution_count": 2,
   "outputs": []
  },
  {
   "metadata": {
    "ExecuteTime": {
     "end_time": "2024-06-27T20:17:19.177173Z",
     "start_time": "2024-06-27T20:17:19.139007Z"
    }
   },
   "cell_type": "code",
   "source": "dTrain",
   "id": "60538ba8e7f162ef",
   "execution_count": 3,
   "outputs": []
  },
  {
   "metadata": {
    "ExecuteTime": {
     "end_time": "2024-06-27T20:17:19.190389Z",
     "start_time": "2024-06-27T20:17:19.177173Z"
    }
   },
   "cell_type": "code",
   "source": "dTest",
   "id": "c0048ff9482f5934",
   "execution_count": 4,
   "outputs": []
  },
  {
   "metadata": {
    "ExecuteTime": {
     "end_time": "2024-06-27T20:17:19.210895Z",
     "start_time": "2024-06-27T20:17:19.191629Z"
    }
   },
   "cell_type": "code",
   "source": "dTest.shape",
   "id": "59f5515778d8d650",
   "execution_count": 5,
   "outputs": []
  },
  {
   "metadata": {
    "ExecuteTime": {
     "end_time": "2024-06-27T20:17:19.228031Z",
     "start_time": "2024-06-27T20:17:19.210895Z"
    }
   },
   "cell_type": "code",
   "source": "dTrain.shape",
   "id": "2119d55aee63f492",
   "execution_count": 6,
   "outputs": []
  },
  {
   "metadata": {
    "ExecuteTime": {
     "end_time": "2024-06-27T20:17:19.241273Z",
     "start_time": "2024-06-27T20:17:19.229048Z"
    }
   },
   "cell_type": "code",
   "source": "dTrain.isna().sum()",
   "id": "5b2985c670d09c7e",
   "execution_count": 7,
   "outputs": []
  },
  {
   "metadata": {
    "ExecuteTime": {
     "end_time": "2024-06-27T20:17:19.268855Z",
     "start_time": "2024-06-27T20:17:19.242860Z"
    }
   },
   "cell_type": "code",
   "source": "dTrain.info()",
   "id": "7255025c237aeff",
   "execution_count": 8,
   "outputs": []
  },
  {
   "metadata": {
    "ExecuteTime": {
     "end_time": "2024-06-27T20:17:25.753600Z",
     "start_time": "2024-06-27T20:17:25.749600Z"
    }
   },
   "cell_type": "code",
   "source": "dTrain.shape",
   "id": "e5a73ac261a7d6a2",
   "execution_count": 9,
   "outputs": []
  },
  {
   "metadata": {
    "ExecuteTime": {
     "end_time": "2024-06-27T20:17:26.190401Z",
     "start_time": "2024-06-27T20:17:26.169445Z"
    }
   },
   "cell_type": "code",
   "source": "dTrain.describe()",
   "id": "3e15a26fe60958df",
   "execution_count": 10,
   "outputs": []
  },
  {
   "metadata": {
    "ExecuteTime": {
     "end_time": "2024-06-27T23:06:58.317615Z",
     "start_time": "2024-06-27T23:06:57.875462Z"
    }
   },
   "cell_type": "code",
   "source": [
    "plt.figure(figsize=(20,9))\n",
    "tcorr = dTrain.corr(method='pearson')\n",
    "sns.heatmap(tcorr, annot=True) "
   ],
   "id": "eddfd1fcbfed87ba",
   "execution_count": 78,
   "outputs": []
  },
  {
   "metadata": {},
   "cell_type": "markdown",
   "source": "### Berapa hardness rata-rata dari sumber air yang memiliki kadar sodium di atas persentil 75 dan memiliki tingkat kebasaaan (alkalinity) di atas rata-rata?",
   "id": "4ed52747c690fbd"
  },
  {
   "metadata": {
    "ExecuteTime": {
     "end_time": "2024-06-27T22:18:39.829396Z",
     "start_time": "2024-06-27T22:18:39.823656Z"
    }
   },
   "cell_type": "code",
   "source": [
    "sod_juma_per = dTrain['Sodium'].quantile(0.75)\n",
    "\n",
    "mean_alka = dTrain['Alkalinity, total'].mean()\n",
    "\n",
    "filter_data = dTrain[(dTrain['Sodium'] > sod_juma_per) & (dTrain['Alkalinity, total'] > mean_alka)]\n",
    "\n",
    "mean_hardness = filter_data['Hardness'].mean()\n",
    "\n",
    "print(f\"Kesadahan air rata-rata yang kadar sodiumnya di atas persentil 75 dan memiliki tingkat kebasaaan (Alkalinity) di atas rata-rata: {avg_hardness.round(4)} mg/L\")"
   ],
   "id": "ebf0ab94347538cd",
   "execution_count": 61,
   "outputs": []
  },
  {
   "metadata": {},
   "cell_type": "markdown",
   "source": "### Apakah ada sumber air yang memiliki tingkat kebasaan (Alkalinity) yang dapat dianggap sebagai outlier? Jelaskan!",
   "id": "31411c59a4ae9824"
  },
  {
   "metadata": {
    "ExecuteTime": {
     "end_time": "2024-06-27T22:20:40.183305Z",
     "start_time": "2024-06-27T22:20:40.175057Z"
    }
   },
   "cell_type": "code",
   "source": [
    "alka_stats = dTrain['Alkalinity, total'].describe()\n",
    "median = alka_stats['50%']\n",
    "q1 = alka_stats['25%']\n",
    "q3 = alka_stats['75%']\n",
    "iqr = q3 - q1\n",
    "nilai_min = alka_stats['min']\n",
    "nilai_max = alka_stats['max']"
   ],
   "id": "daef29eb9edbe05f",
   "execution_count": 63,
   "outputs": []
  },
  {
   "metadata": {
    "ExecuteTime": {
     "end_time": "2024-06-27T22:20:44.722056Z",
     "start_time": "2024-06-27T22:20:44.718360Z"
    }
   },
   "cell_type": "code",
   "source": [
    "lower_bound = q1 - 1.5 * iqr\n",
    "upper_bound = q3 + 1.5 * iqr"
   ],
   "id": "ee6f38f926ef69fb",
   "execution_count": 64,
   "outputs": []
  },
  {
   "metadata": {
    "ExecuteTime": {
     "end_time": "2024-06-27T22:20:51.767090Z",
     "start_time": "2024-06-27T22:20:50.813032Z"
    }
   },
   "cell_type": "code",
   "source": [
    "sns.set_theme(style=\"whitegrid\")\n",
    "custom_color = sns.color_palette(\"coolwarm\")\n",
    "\n",
    "plt.figure(figsize=(12,6))\n",
    "boxplot = sns.boxplot(x='Alkalinity, total', data=dTrain, palette=custom_color)\n",
    "\n",
    "boxplot.set_title('Alkalinity Visualization by Boxplot', fontsize=16)\n",
    "boxplot.set_xlabel('Alkalinity', fontsize=14)\n",
    "boxplot.tick_params(axis='both', which='major', labelsize=12)\n",
    "\n",
    "outliers = dTrain[(dTrain['Alkalinity, total'] < lower_bound) | (dTrain['Alkalinity, total'] > upper_bound)]\n",
    "\n",
    "for outlier in outliers['Alkalinity, total']:\n",
    "    plt.scatter(outlier, 0, color='red', zorder=10)\n",
    "\n",
    "plt.show()\n"
   ],
   "id": "50bb31c97727f83b",
   "execution_count": 65,
   "outputs": []
  },
  {
   "metadata": {
    "ExecuteTime": {
     "end_time": "2024-06-27T22:21:13.561049Z",
     "start_time": "2024-06-27T22:21:13.555503Z"
    }
   },
   "cell_type": "code",
   "source": [
    "print(f\"Median: {median} mg/L\")\n",
    "print(f\"Q1 (25th percentile): {q1} mg/L\")\n",
    "print(f\"Q3 (75th percentile): {q3} mg/L\")\n",
    "print(f\"IQR: {iqr} mg/L\")\n",
    "print(f\"Lower bound (non-outliers): {lower_bound} mg/L\")\n",
    "print(f\"Upper bound (non-outliers): {upper_bound} mg/L\")\n",
    "print(f\"Minimum value (actual): {nilai_min} mg/L\")\n",
    "print(f\"Maximum value (actual): {nilai_max} mg/L\")\n",
    "\n",
    "print(\"Outliers Alkalinity : \")\n",
    "print(outliers['Alkalinity, total'])\n",
    "print(\"Outliers Alkalinity total: \", outliers['Alkalinity, total'].value_counts().sum())"
   ],
   "id": "cb14b53b314b3d78",
   "execution_count": 68,
   "outputs": []
  },
  {
   "metadata": {
    "ExecuteTime": {
     "end_time": "2024-06-24T16:37:40.338717Z",
     "start_time": "2024-06-24T16:37:40.336117Z"
    }
   },
   "cell_type": "code",
   "source": "col = ['Alkalinity, total', 'Calcium', 'Chloride', 'Fluoride', 'Magnesium', 'Nitrate as N', 'Sodium', 'Specific Conductivity', 'Sulfate', 'Total Dissolved Solids', 'Hardness']",
   "id": "7bda9d15dfd8740f",
   "execution_count": 12,
   "outputs": []
  },
  {
   "metadata": {
    "ExecuteTime": {
     "end_time": "2024-06-24T16:38:33.210678Z",
     "start_time": "2024-06-24T16:37:40.686730Z"
    }
   },
   "cell_type": "code",
   "source": [
    "plt.style.use('ggplot')\n",
    "bar_colors = sns.color_palette(\"hls\", 8)\n",
    "\n",
    "for kolom in col:\n",
    "    plt.figure(figsize=(8, 10))\n",
    "    counts = dTrain[kolom].value_counts()\n",
    "    counts.plot(kind='bar', color=bar_colors)\n",
    "    plt.xlabel(kolom)\n",
    "    plt.ylabel(\"Count\")\n",
    "    plt.title(kolom)\n"
   ],
   "id": "60c8b2e4670b57bb",
   "execution_count": 13,
   "outputs": []
  },
  {
   "metadata": {
    "ExecuteTime": {
     "end_time": "2024-06-24T16:45:27.279596Z",
     "start_time": "2024-06-24T16:45:27.274314Z"
    }
   },
   "cell_type": "code",
   "source": [
    "X = dTrain.drop(columns=['Hardness'])\n",
    "y = dTrain['Hardness']"
   ],
   "id": "f544681d7597401d",
   "execution_count": 14,
   "outputs": []
  },
  {
   "metadata": {
    "ExecuteTime": {
     "end_time": "2024-06-24T16:45:28.129833Z",
     "start_time": "2024-06-24T16:45:28.122283Z"
    }
   },
   "cell_type": "code",
   "source": "X_train, X_val, y_train, y_val = tts(X, y,test_size=0.3, random_state=0)",
   "id": "e5a6c3e3b4fb4059",
   "execution_count": 15,
   "outputs": []
  },
  {
   "metadata": {},
   "cell_type": "code",
   "execution_count": null,
   "source": "",
   "id": "e75a22ef86c2d6a2",
   "outputs": []
  },
  {
   "metadata": {},
   "cell_type": "markdown",
   "source": "## Linear reg",
   "id": "5674253707f39715"
  },
  {
   "metadata": {
    "ExecuteTime": {
     "end_time": "2024-06-24T16:50:06.399706Z",
     "start_time": "2024-06-24T16:50:06.387447Z"
    }
   },
   "cell_type": "code",
   "source": [
    "lr = LinearRegression()\n",
    "lr.fit(X_train, y_train)\n",
    "\n",
    "y_val_pred = lr.predict(X_val)"
   ],
   "id": "6f15c1d3dc89719d",
   "execution_count": 25,
   "outputs": []
  },
  {
   "metadata": {
    "ExecuteTime": {
     "end_time": "2024-06-24T16:50:06.771999Z",
     "start_time": "2024-06-24T16:50:06.768061Z"
    }
   },
   "cell_type": "code",
   "source": "val_r2 = r2_score(y_val, y_val_pred)",
   "id": "bc4c425ed511a046",
   "execution_count": 26,
   "outputs": []
  },
  {
   "metadata": {
    "ExecuteTime": {
     "end_time": "2024-06-24T16:50:07.123093Z",
     "start_time": "2024-06-24T16:50:07.119832Z"
    }
   },
   "cell_type": "code",
   "source": "print(\"Akurasi tes kedua yg val: \", val_r2)",
   "id": "59d5ce4eec387ffc",
   "execution_count": 27,
   "outputs": []
  },
  {
   "metadata": {
    "ExecuteTime": {
     "end_time": "2024-06-24T16:50:07.543949Z",
     "start_time": "2024-06-24T16:50:07.538380Z"
    }
   },
   "cell_type": "code",
   "source": [
    "# tes yang train cek overfit\n",
    "y_train_pred = lr.predict(X_train)\n",
    "train_r2 = r2_score(y_train, y_train_pred)\n",
    "print(\"Akurasi tes kedua yg train: \", train_r2)"
   ],
   "id": "d89c42537787ea42",
   "execution_count": 28,
   "outputs": []
  },
  {
   "metadata": {
    "ExecuteTime": {
     "end_time": "2024-06-24T16:50:12.730951Z",
     "start_time": "2024-06-24T16:50:12.727273Z"
    }
   },
   "cell_type": "code",
   "source": [
    "# load test.csv for linreg\n",
    "X_test = dTest\n",
    "test_pred = lr.predict(X_test)"
   ],
   "id": "53a07f7d5b1b0478",
   "execution_count": 29,
   "outputs": []
  },
  {
   "metadata": {
    "ExecuteTime": {
     "end_time": "2024-06-24T03:31:31.041919Z",
     "start_time": "2024-06-24T03:31:31.037473Z"
    }
   },
   "cell_type": "code",
   "source": [
    "submission2 = pd.DataFrame({\n",
    "    'id' : dTest['id'],\n",
    "    'Hardness' : test_pred\n",
    "}\n",
    ")"
   ],
   "id": "2c88c1d26215068",
   "execution_count": 91,
   "outputs": []
  },
  {
   "metadata": {
    "ExecuteTime": {
     "end_time": "2024-06-24T03:31:39.628848Z",
     "start_time": "2024-06-24T03:31:39.620796Z"
    }
   },
   "cell_type": "code",
   "source": [
    "submission2.to_csv('submission2.csv', index=False)\n",
    "print(\"submit csv kedua: submission2\")"
   ],
   "id": "122f841ff13f9a88",
   "execution_count": 92,
   "outputs": []
  },
  {
   "metadata": {},
   "cell_type": "code",
   "source": [
    "train_r2 = r2_score(y_train, lr.predict(X_train))\n",
    "print(f'Training R² score: {train_r2}')\n",
    "if train_r2 > val_r2:\n",
    "    print(\"The model may be overfitting. The training score is higher than the validation score.\")\n",
    "else:\n",
    "    print(\"The model does not appear to be overfitting.\")"
   ],
   "id": "e7589973ca6561c0",
   "execution_count": null,
   "outputs": []
  },
  {
   "metadata": {},
   "cell_type": "markdown",
   "source": "## LASSO",
   "id": "3f613ba5e7854cc2"
  },
  {
   "metadata": {
    "ExecuteTime": {
     "end_time": "2024-06-24T04:11:07.534424Z",
     "start_time": "2024-06-24T04:11:07.524982Z"
    }
   },
   "cell_type": "code",
   "source": [
    "#try with lasso reg\n",
    "las = Lasso()\n",
    "las.fit(X_train, y_train)\n",
    "y_val_pred_las = las.predict(X_val)\n",
    "val_las_r2 = r2_score(y_val, y_val_pred_las)"
   ],
   "id": "6eaddc97e40e93a",
   "execution_count": 108,
   "outputs": []
  },
  {
   "metadata": {
    "ExecuteTime": {
     "end_time": "2024-06-24T04:11:20.049974Z",
     "start_time": "2024-06-24T04:11:20.046581Z"
    }
   },
   "cell_type": "code",
   "source": "print(\"Akurasi tes kedua yg val lasso: \", val_las_r2)",
   "id": "9ddd65b8a5617da6",
   "execution_count": 109,
   "outputs": []
  },
  {
   "metadata": {
    "ExecuteTime": {
     "end_time": "2024-06-24T04:27:27.685789Z",
     "start_time": "2024-06-24T04:27:27.679365Z"
    }
   },
   "cell_type": "code",
   "source": [
    "# tes yang train cek overfit lasso\n",
    "y_train_pred_las = las.predict(X_train)\n",
    "train_r2_las = r2_score(y_train, y_train_pred_las)\n",
    "print(\"Akurasi tes kedua yg train: \", train_r2_las)"
   ],
   "id": "591249645e138900",
   "execution_count": 110,
   "outputs": []
  },
  {
   "metadata": {
    "ExecuteTime": {
     "end_time": "2024-06-24T04:29:01.406067Z",
     "start_time": "2024-06-24T04:29:01.400247Z"
    }
   },
   "cell_type": "code",
   "source": [
    "# load test.csv for lasreg\n",
    "test_pred_las = las.predict(X_test)"
   ],
   "id": "670dba899cce394",
   "execution_count": 112,
   "outputs": []
  },
  {
   "metadata": {
    "ExecuteTime": {
     "end_time": "2024-06-24T04:37:30.225705Z",
     "start_time": "2024-06-24T04:37:30.221837Z"
    }
   },
   "cell_type": "code",
   "source": [
    "submission2las = pd.DataFrame({\n",
    "    'id' : dTest['id'],\n",
    "    'Hardness' : test_pred_las\n",
    "}\n",
    ")"
   ],
   "id": "91e1137ace2c57df",
   "execution_count": 114,
   "outputs": []
  },
  {
   "metadata": {
    "ExecuteTime": {
     "end_time": "2024-06-24T04:37:32.156740Z",
     "start_time": "2024-06-24T04:37:32.146865Z"
    }
   },
   "cell_type": "code",
   "source": [
    "submission2las.to_csv('submission2lasso.csv', index=False)\n",
    "print(\"submit csv kedua: submission2lasso\")"
   ],
   "id": "177750a52cbbba12",
   "execution_count": 115,
   "outputs": []
  },
  {
   "metadata": {},
   "cell_type": "markdown",
   "source": "## RIDGE",
   "id": "b9dfdeae300c9c8e"
  },
  {
   "metadata": {
    "ExecuteTime": {
     "end_time": "2024-06-24T04:42:28.712125Z",
     "start_time": "2024-06-24T04:42:28.689971Z"
    }
   },
   "cell_type": "code",
   "source": [
    "# try with ridge reg\n",
    "rid = Ridge()\n",
    "rid.fit(X_train, y_train)\n",
    "y_val_pred_rid = rid.predict(X_val)\n",
    "val_rid_r2 = r2_score(y_val, y_val_pred_rid)"
   ],
   "id": "73c233890cc2c552",
   "execution_count": 117,
   "outputs": []
  },
  {
   "metadata": {
    "ExecuteTime": {
     "end_time": "2024-06-24T04:42:30.933841Z",
     "start_time": "2024-06-24T04:42:30.930675Z"
    }
   },
   "cell_type": "code",
   "source": "print(\"Akurasi tes kedua yg val ridge: \", val_rid_r2)",
   "id": "3d11c816eb0a6144",
   "execution_count": 118,
   "outputs": []
  },
  {
   "metadata": {
    "ExecuteTime": {
     "end_time": "2024-06-24T04:47:10.627948Z",
     "start_time": "2024-06-24T04:47:10.622574Z"
    }
   },
   "cell_type": "code",
   "source": [
    "# check the train ia it overfit with ridge?\n",
    "y_train_pred_rid = rid.predict(X_train)\n",
    "train_r2_rid = r2_score(y_train, y_train_pred_rid)\n",
    "print(\"Akurasi tes kedua yg train ridge: \", train_r2_rid)"
   ],
   "id": "9b4f6135c45dfe1",
   "execution_count": 119,
   "outputs": []
  },
  {
   "metadata": {
    "ExecuteTime": {
     "end_time": "2024-06-24T04:53:35.065925Z",
     "start_time": "2024-06-24T04:53:35.060006Z"
    }
   },
   "cell_type": "code",
   "source": [
    "# load test.csv for lridge\n",
    "test_pred_rid = rid.predict(X_test)"
   ],
   "id": "f3a77ed7c818ff3e",
   "execution_count": 120,
   "outputs": []
  },
  {
   "metadata": {
    "ExecuteTime": {
     "end_time": "2024-06-24T04:53:58.536205Z",
     "start_time": "2024-06-24T04:53:58.532795Z"
    }
   },
   "cell_type": "code",
   "source": [
    "submission2rid = pd.DataFrame({\n",
    "    'id' : dTest['id'],\n",
    "    'Hardness' : test_pred_rid\n",
    "}\n",
    ")"
   ],
   "id": "90833f8eb4ad169d",
   "execution_count": 121,
   "outputs": []
  },
  {
   "metadata": {
    "ExecuteTime": {
     "end_time": "2024-06-24T04:54:31.842557Z",
     "start_time": "2024-06-24T04:54:31.834434Z"
    }
   },
   "cell_type": "code",
   "source": [
    "submission2rid.to_csv('submission2ridge.csv', index=False)\n",
    "print(\"submit csv kedua: submission2ridge\")"
   ],
   "id": "59b734567e69b6a8",
   "execution_count": 123,
   "outputs": []
  },
  {
   "metadata": {},
   "cell_type": "markdown",
   "source": "## Try with DT regressor",
   "id": "29b52ee08ec4efb"
  },
  {
   "metadata": {},
   "cell_type": "code",
   "source": [
    "dtr = DecisionTreeRegressor()\n",
    "dtr.fit(X_train, y_train)"
   ],
   "id": "3611d13145aedcce",
   "execution_count": null,
   "outputs": []
  },
  {
   "metadata": {
    "ExecuteTime": {
     "end_time": "2024-06-24T10:20:39.574077Z",
     "start_time": "2024-06-24T10:20:39.553544Z"
    }
   },
   "cell_type": "code",
   "source": [
    "#predict val set\n",
    "y_val_pred_dtr = dtr.predict(X_val)\n",
    "val_dtr_r2 = r2_score(y_val, y_val_pred_dtr)\n",
    "print(\"Akurasi dtr kedua yg val dtr: \", val_dtr_r2)"
   ],
   "id": "cfa29bef67eeb08b",
   "execution_count": 129,
   "outputs": []
  },
  {
   "metadata": {
    "ExecuteTime": {
     "end_time": "2024-06-24T10:23:02.414944Z",
     "start_time": "2024-06-24T10:23:02.406306Z"
    }
   },
   "cell_type": "code",
   "source": [
    "#check training set\n",
    "y_train_pred_dtr = dtr.predict(X_train)\n",
    "train_r2_dtr = r2_score(y_train, y_train_pred_dtr)\n",
    "print(\"Akurasi dtr yg train dtr: \", train_r2_dtr)"
   ],
   "id": "e1c169a862f1c20f",
   "execution_count": 130,
   "outputs": []
  },
  {
   "metadata": {
    "ExecuteTime": {
     "end_time": "2024-06-24T10:26:38.363730Z",
     "start_time": "2024-06-24T10:26:38.355892Z"
    }
   },
   "cell_type": "code",
   "source": "test_pred_dtr = dtr.predict(X_test)",
   "id": "eb3438118a07605f",
   "execution_count": 131,
   "outputs": []
  },
  {
   "metadata": {
    "ExecuteTime": {
     "end_time": "2024-06-24T10:27:01.352981Z",
     "start_time": "2024-06-24T10:27:01.342186Z"
    }
   },
   "cell_type": "code",
   "source": [
    "submission2dtr = pd.DataFrame({\n",
    "    'id' : dTest['id'],\n",
    "    'Hardness' : test_pred_dtr\n",
    "})"
   ],
   "id": "a9a5032db86027cd",
   "execution_count": 132,
   "outputs": []
  },
  {
   "metadata": {
    "ExecuteTime": {
     "end_time": "2024-06-24T10:27:21.943771Z",
     "start_time": "2024-06-24T10:27:21.907543Z"
    }
   },
   "cell_type": "code",
   "source": [
    "submission2dtr.to_csv('submission2dtr.csv', index=False)\n",
    "print(\"submit csv kedua using dtr: submission2dtr\")"
   ],
   "id": "5de630217af54077",
   "execution_count": 133,
   "outputs": []
  },
  {
   "metadata": {},
   "cell_type": "markdown",
   "source": "## Try RFR",
   "id": "b85b94dc73bee300"
  },
  {
   "metadata": {},
   "cell_type": "code",
   "source": [
    "rfr = RandomForestRegressor()\n",
    "rfr.fit(X_train, y_train)"
   ],
   "id": "b5f548068f553760",
   "execution_count": null,
   "outputs": []
  },
  {
   "metadata": {
    "ExecuteTime": {
     "end_time": "2024-06-24T16:48:24.717714Z",
     "start_time": "2024-06-24T16:48:24.680051Z"
    }
   },
   "cell_type": "code",
   "source": [
    "#pred val set\n",
    "y_val_pred_rf = rfr.predict(X_val)\n",
    "val_rf_r2 = r2_score(y_val, y_val_pred_rf)\n",
    "print(\"Akurasi rf kedua yg val rf: \", val_rf_r2)"
   ],
   "id": "8c4bf54fe87563c7",
   "execution_count": 18,
   "outputs": []
  },
  {
   "metadata": {
    "ExecuteTime": {
     "end_time": "2024-06-24T16:48:51.421352Z",
     "start_time": "2024-06-24T16:48:51.354156Z"
    }
   },
   "cell_type": "code",
   "source": [
    "#pred train set\n",
    "y_train_pred_rf = rfr.predict(X_train)\n",
    "train_rf_r2 = r2_score(y_train, y_train_pred_rf)\n",
    "print(\"Akurasi rf yg train rf: \", train_rf_r2)"
   ],
   "id": "d3bc577ad496fd6d",
   "execution_count": 19,
   "outputs": []
  },
  {
   "metadata": {
    "ExecuteTime": {
     "end_time": "2024-06-24T16:50:27.930754Z",
     "start_time": "2024-06-24T16:50:27.896185Z"
    }
   },
   "cell_type": "code",
   "source": "test_pred_rf = rfr.predict(X_test)",
   "id": "3c0877ec8758691a",
   "execution_count": 30,
   "outputs": []
  },
  {
   "metadata": {
    "ExecuteTime": {
     "end_time": "2024-06-24T16:50:39.778591Z",
     "start_time": "2024-06-24T16:50:39.774999Z"
    }
   },
   "cell_type": "code",
   "source": [
    "submission2rf = pd.DataFrame({\n",
    "    'id' : dTest['id'],\n",
    "    'Hardness' : test_pred_rf\n",
    "})"
   ],
   "id": "cf585cc064f88f92",
   "execution_count": 31,
   "outputs": []
  },
  {
   "metadata": {
    "ExecuteTime": {
     "end_time": "2024-06-24T16:50:58.788812Z",
     "start_time": "2024-06-24T16:50:58.781651Z"
    }
   },
   "cell_type": "code",
   "source": [
    "submission2rf.to_csv('submission2rf.csv', index=False)\n",
    "print(\"submit csv using rf: submission2rf\")"
   ],
   "id": "7cbad64549cfedae",
   "execution_count": 32,
   "outputs": []
  },
  {
   "metadata": {},
   "cell_type": "markdown",
   "source": "## SVR",
   "id": "2b8f4f31b471846e"
  },
  {
   "metadata": {
    "ExecuteTime": {
     "end_time": "2024-06-24T16:52:44.766103Z",
     "start_time": "2024-06-24T16:52:44.203452Z"
    }
   },
   "cell_type": "code",
   "source": [
    "svr = SVR()\n",
    "svr.fit(X_train, y_train)"
   ],
   "id": "6164ceab10dd13dc",
   "execution_count": 33,
   "outputs": []
  },
  {
   "metadata": {
    "ExecuteTime": {
     "end_time": "2024-06-24T16:53:21.388209Z",
     "start_time": "2024-06-24T16:53:20.899837Z"
    }
   },
   "cell_type": "code",
   "source": [
    "y_val_pred_svr = svr.predict(X_val)\n",
    "val_rsv_r2 = r2_score(y_val, y_val_pred_svr)\n",
    "print(\"Akurasi svr yg val : \", val_rsv_r2)"
   ],
   "id": "9714447566634123",
   "execution_count": 34,
   "outputs": []
  },
  {
   "metadata": {
    "ExecuteTime": {
     "end_time": "2024-06-24T16:54:33.654135Z",
     "start_time": "2024-06-24T16:54:32.492885Z"
    }
   },
   "cell_type": "code",
   "source": [
    "y_train_pred_svr = svr.predict(X_train)\n",
    "train_rsv_r2 = r2_score(y_train, y_train_pred_svr)\n",
    "print(\"Akurasi svr yg train : \", train_rsv_r2)"
   ],
   "id": "d51c1d483fbc39a6",
   "execution_count": 35,
   "outputs": []
  },
  {
   "metadata": {},
   "cell_type": "markdown",
   "source": "## Gradient Boosting Regressor",
   "id": "d183284570536f24"
  },
  {
   "metadata": {
    "ExecuteTime": {
     "end_time": "2024-06-24T16:56:17.235698Z",
     "start_time": "2024-06-24T16:56:16.442542Z"
    }
   },
   "cell_type": "code",
   "source": [
    "gbr = GradientBoostingRegressor()\n",
    "gbr.fit(X_train, y_train)"
   ],
   "id": "ef1129737feab349",
   "execution_count": 37,
   "outputs": []
  },
  {
   "metadata": {
    "ExecuteTime": {
     "end_time": "2024-06-24T16:56:31.838350Z",
     "start_time": "2024-06-24T16:56:31.827896Z"
    }
   },
   "cell_type": "code",
   "source": [
    "y_val_pred_gbr = gbr.predict(X_val)\n",
    "val_gbr_r2 = r2_score(y_val, y_val_pred_gbr)\n",
    "print(\"Akurasi gbr yg val : \", val_gbr_r2)"
   ],
   "id": "df0a6921b15d6c61",
   "execution_count": 38,
   "outputs": []
  },
  {
   "metadata": {
    "ExecuteTime": {
     "end_time": "2024-06-24T16:56:56.958690Z",
     "start_time": "2024-06-24T16:56:56.949101Z"
    }
   },
   "cell_type": "code",
   "source": [
    "y_train_pred_gbr = gbr.predict(X_train)\n",
    "train_gbr_r2 = r2_score(y_train, y_train_pred_gbr)\n",
    "print(\"Akurasi gbr yg train : \", train_gbr_r2)"
   ],
   "id": "f4b08d3d527ddf42",
   "execution_count": 39,
   "outputs": []
  },
  {
   "metadata": {
    "ExecuteTime": {
     "end_time": "2024-06-24T16:58:32.166257Z",
     "start_time": "2024-06-24T16:58:32.158684Z"
    }
   },
   "cell_type": "code",
   "source": "test_pred_gbr = gbr.predict(X_test)",
   "id": "3829903aedcf6c76",
   "execution_count": 40,
   "outputs": []
  },
  {
   "metadata": {
    "ExecuteTime": {
     "end_time": "2024-06-24T16:58:48.347129Z",
     "start_time": "2024-06-24T16:58:48.343449Z"
    }
   },
   "cell_type": "code",
   "source": [
    "submission2gbr = pd.DataFrame({\n",
    "    'id' : dTest['id'],\n",
    "    'Hardness' : test_pred_gbr\n",
    "})"
   ],
   "id": "60fd7cd345eda1e8",
   "execution_count": 41,
   "outputs": []
  },
  {
   "metadata": {
    "ExecuteTime": {
     "end_time": "2024-06-24T16:59:13.532113Z",
     "start_time": "2024-06-24T16:59:13.526063Z"
    }
   },
   "cell_type": "code",
   "source": [
    "submission2gbr.to_csv('submission2gbr.csv', index=False)\n",
    "print(\"submit csv using gbr: submission2gbr\")"
   ],
   "id": "584855c94fca3ebe",
   "execution_count": 42,
   "outputs": []
  }
 ],
 "metadata": {
  "kernelspec": {
   "display_name": "Python 3",
   "language": "python",
   "name": "python3"
  },
  "language_info": {
   "codemirror_mode": {
    "name": "ipython",
    "version": 2
   },
   "file_extension": ".py",
   "mimetype": "text/x-python",
   "name": "python",
   "nbconvert_exporter": "python",
   "pygments_lexer": "ipython2",
   "version": "2.7.6"
  }
 },
 "nbformat": 4,
 "nbformat_minor": 5
}
